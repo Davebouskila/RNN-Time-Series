{
 "cells": [
  {
   "cell_type": "markdown",
   "metadata": {},
   "source": [
    "<img src=\"stockImage.png\"\n",
    "     alt=\"Markdown Monster icon\"\n",
    "     style=\"float: left; margin-right: 10px;\" />"
   ]
  },
  {
   "cell_type": "markdown",
   "metadata": {},
   "source": [
    "## Load and Explore Data\n",
    "#### Import dependancies\n",
    "#### Import yahoo finance dataset\n",
    "#### define columns and prediction classes"
   ]
  },
  {
   "cell_type": "code",
   "execution_count": 1,
   "metadata": {},
   "outputs": [
    {
     "name": "stderr",
     "output_type": "stream",
     "text": [
      "Using TensorFlow backend.\n"
     ]
    }
   ],
   "source": [
    "# Importing the libraries\n",
    "import numpy as np\n",
    "import matplotlib.pyplot as plt\n",
    "import pandas as pd\n",
    "# Importing the Keras libraries and packages\n",
    "from keras.models import Sequential\n",
    "from keras.layers import Dense\n",
    "from keras.layers import LSTM\n",
    "from keras.layers import Dropout"
   ]
  },
  {
   "cell_type": "code",
   "execution_count": 4,
   "metadata": {},
   "outputs": [
    {
     "data": {
      "text/html": [
       "<div>\n",
       "<style scoped>\n",
       "    .dataframe tbody tr th:only-of-type {\n",
       "        vertical-align: middle;\n",
       "    }\n",
       "\n",
       "    .dataframe tbody tr th {\n",
       "        vertical-align: top;\n",
       "    }\n",
       "\n",
       "    .dataframe thead th {\n",
       "        text-align: right;\n",
       "    }\n",
       "</style>\n",
       "<table border=\"1\" class=\"dataframe\">\n",
       "  <thead>\n",
       "    <tr style=\"text-align: right;\">\n",
       "      <th></th>\n",
       "      <th>Date</th>\n",
       "      <th>Open</th>\n",
       "      <th>High</th>\n",
       "      <th>Low</th>\n",
       "      <th>Close</th>\n",
       "      <th>Adj Close</th>\n",
       "      <th>Volume</th>\n",
       "    </tr>\n",
       "  </thead>\n",
       "  <tbody>\n",
       "    <tr>\n",
       "      <th>0</th>\n",
       "      <td>2004-08-19</td>\n",
       "      <td>49.676899</td>\n",
       "      <td>51.693783</td>\n",
       "      <td>47.669952</td>\n",
       "      <td>49.845802</td>\n",
       "      <td>49.845802</td>\n",
       "      <td>44994500</td>\n",
       "    </tr>\n",
       "    <tr>\n",
       "      <th>1</th>\n",
       "      <td>2004-08-20</td>\n",
       "      <td>50.178635</td>\n",
       "      <td>54.187561</td>\n",
       "      <td>49.925285</td>\n",
       "      <td>53.805050</td>\n",
       "      <td>53.805050</td>\n",
       "      <td>23005800</td>\n",
       "    </tr>\n",
       "    <tr>\n",
       "      <th>2</th>\n",
       "      <td>2004-08-23</td>\n",
       "      <td>55.017166</td>\n",
       "      <td>56.373344</td>\n",
       "      <td>54.172661</td>\n",
       "      <td>54.346527</td>\n",
       "      <td>54.346527</td>\n",
       "      <td>18393200</td>\n",
       "    </tr>\n",
       "    <tr>\n",
       "      <th>3</th>\n",
       "      <td>2004-08-24</td>\n",
       "      <td>55.260582</td>\n",
       "      <td>55.439419</td>\n",
       "      <td>51.450363</td>\n",
       "      <td>52.096165</td>\n",
       "      <td>52.096165</td>\n",
       "      <td>15361800</td>\n",
       "    </tr>\n",
       "    <tr>\n",
       "      <th>4</th>\n",
       "      <td>2004-08-25</td>\n",
       "      <td>52.140873</td>\n",
       "      <td>53.651051</td>\n",
       "      <td>51.604362</td>\n",
       "      <td>52.657513</td>\n",
       "      <td>52.657513</td>\n",
       "      <td>9257400</td>\n",
       "    </tr>\n",
       "  </tbody>\n",
       "</table>\n",
       "</div>"
      ],
      "text/plain": [
       "         Date       Open       High        Low      Close  Adj Close    Volume\n",
       "0  2004-08-19  49.676899  51.693783  47.669952  49.845802  49.845802  44994500\n",
       "1  2004-08-20  50.178635  54.187561  49.925285  53.805050  53.805050  23005800\n",
       "2  2004-08-23  55.017166  56.373344  54.172661  54.346527  54.346527  18393200\n",
       "3  2004-08-24  55.260582  55.439419  51.450363  52.096165  52.096165  15361800\n",
       "4  2004-08-25  52.140873  53.651051  51.604362  52.657513  52.657513   9257400"
      ]
     },
     "execution_count": 4,
     "metadata": {},
     "output_type": "execute_result"
    }
   ],
   "source": [
    "df = pd.read_csv('GOOG.csv')\n",
    "df.head()"
   ]
  },
  {
   "cell_type": "code",
   "execution_count": 5,
   "metadata": {},
   "outputs": [
    {
     "data": {
      "text/plain": [
       "3724"
      ]
     },
     "execution_count": 5,
     "metadata": {},
     "output_type": "execute_result"
    }
   ],
   "source": [
    "len(df)"
   ]
  },
  {
   "cell_type": "markdown",
   "metadata": {},
   "source": [
    "## Train the data from 2004 up untilthe second to lat month\n",
    "## We will predict our model on the last month \n"
   ]
  },
  {
   "cell_type": "code",
   "execution_count": 6,
   "metadata": {},
   "outputs": [
    {
     "data": {
      "text/plain": [
       "34"
      ]
     },
     "execution_count": 6,
     "metadata": {},
     "output_type": "execute_result"
    }
   ],
   "source": [
    "training_set = df.iloc[:3690,:]\n",
    "training_set = training_set.iloc[:, 1:2].values\n",
    "\n",
    "testing_set = df.iloc[3690:,:]\n",
    "testing_set = testing_set.iloc[:, 1:2].values\n",
    "\n",
    "len(testing_set)"
   ]
  },
  {
   "cell_type": "markdown",
   "metadata": {},
   "source": [
    "## Scale the data and select the class and feature variables"
   ]
  },
  {
   "cell_type": "code",
   "execution_count": 7,
   "metadata": {},
   "outputs": [],
   "source": [
    "# Feature Scaling\n",
    "from sklearn.preprocessing import MinMaxScaler\n",
    "sc = MinMaxScaler(feature_range = (0, 1))\n",
    "training_set_scaled = sc.fit_transform(training_set)\n"
   ]
  },
  {
   "cell_type": "code",
   "execution_count": 8,
   "metadata": {},
   "outputs": [
    {
     "data": {
      "text/plain": [
       "(3630, 60)"
      ]
     },
     "execution_count": 8,
     "metadata": {},
     "output_type": "execute_result"
    }
   ],
   "source": [
    "# Creating a data structure with 60 timesteps and 1 output\n",
    "X_train = []\n",
    "y_train = []\n",
    "for i in range(60, len(training_set)):\n",
    "    X_train.append(training_set_scaled[i-60:i, 0])\n",
    "    y_train.append(training_set_scaled[i, 0])\n",
    "X_train, y_train = np.array(X_train), np.array(y_train)\n",
    "X_train.shape\n"
   ]
  },
  {
   "cell_type": "code",
   "execution_count": 9,
   "metadata": {},
   "outputs": [
    {
     "data": {
      "text/plain": [
       "(3630, 60, 1)"
      ]
     },
     "execution_count": 9,
     "metadata": {},
     "output_type": "execute_result"
    }
   ],
   "source": [
    "# Reshaping\n",
    "X_train = np.reshape(X_train, (X_train.shape[0], X_train.shape[1], 1))\n",
    "X_train.shape"
   ]
  },
  {
   "cell_type": "markdown",
   "metadata": {},
   "source": [
    "## Building the RNN\n",
    "## We will use LTSM to learn cautiously from the data\n",
    "\n"
   ]
  },
  {
   "cell_type": "code",
   "execution_count": 10,
   "metadata": {},
   "outputs": [],
   "source": [
    "# Initialising the RNN\n",
    "regressor = Sequential()\n"
   ]
  },
  {
   "cell_type": "code",
   "execution_count": 11,
   "metadata": {},
   "outputs": [
    {
     "name": "stdout",
     "output_type": "stream",
     "text": [
      "WARNING:tensorflow:From C:\\Users\\davidsbouskila\\Anaconda3\\lib\\site-packages\\tensorflow\\python\\framework\\op_def_library.py:263: colocate_with (from tensorflow.python.framework.ops) is deprecated and will be removed in a future version.\n",
      "Instructions for updating:\n",
      "Colocations handled automatically by placer.\n",
      "WARNING:tensorflow:From C:\\Users\\davidsbouskila\\Anaconda3\\lib\\site-packages\\keras\\backend\\tensorflow_backend.py:3445: calling dropout (from tensorflow.python.ops.nn_ops) with keep_prob is deprecated and will be removed in a future version.\n",
      "Instructions for updating:\n",
      "Please use `rate` instead of `keep_prob`. Rate should be set to `rate = 1 - keep_prob`.\n"
     ]
    }
   ],
   "source": [
    "# Adding the first LSTM layer and some Dropout regularisation\n",
    "regressor.add(LSTM(units = 50, return_sequences = True, input_shape = (X_train.shape[1], 1)))\n",
    "regressor.add(Dropout(0.2))\n",
    "\n"
   ]
  },
  {
   "cell_type": "code",
   "execution_count": 12,
   "metadata": {},
   "outputs": [],
   "source": [
    "# Adding a second LSTM layer and some Dropout regularisation\n",
    "regressor.add(LSTM(units = 50, return_sequences = True))\n",
    "regressor.add(Dropout(0.2))\n"
   ]
  },
  {
   "cell_type": "code",
   "execution_count": 13,
   "metadata": {},
   "outputs": [],
   "source": [
    "# Adding a third LSTM layer and some Dropout regularisation\n",
    "regressor.add(LSTM(units = 50, return_sequences = True))\n",
    "regressor.add(Dropout(0.2))\n"
   ]
  },
  {
   "cell_type": "code",
   "execution_count": 14,
   "metadata": {},
   "outputs": [],
   "source": [
    "# Adding a fourth LSTM layer and some Dropout regularisation\n",
    "regressor.add(LSTM(units = 50))\n",
    "regressor.add(Dropout(0.2))\n"
   ]
  },
  {
   "cell_type": "code",
   "execution_count": 15,
   "metadata": {},
   "outputs": [],
   "source": [
    "# Adding the output layer\n",
    "regressor.add(Dense(units = 1))\n"
   ]
  },
  {
   "cell_type": "code",
   "execution_count": 16,
   "metadata": {},
   "outputs": [],
   "source": [
    "# Compiling the RNN\n",
    "regressor.compile(optimizer = 'adam', loss = 'mean_squared_error')\n"
   ]
  },
  {
   "cell_type": "code",
   "execution_count": 17,
   "metadata": {},
   "outputs": [
    {
     "data": {
      "text/plain": [
       "(3630, 60, 1)"
      ]
     },
     "execution_count": 17,
     "metadata": {},
     "output_type": "execute_result"
    }
   ],
   "source": [
    "X_train.shape"
   ]
  },
  {
   "cell_type": "markdown",
   "metadata": {},
   "source": [
    "## Fitting the model takes time since we run many epochs "
   ]
  },
  {
   "cell_type": "code",
   "execution_count": 18,
   "metadata": {},
   "outputs": [
    {
     "name": "stdout",
     "output_type": "stream",
     "text": [
      "WARNING:tensorflow:From C:\\Users\\davidsbouskila\\Anaconda3\\lib\\site-packages\\tensorflow\\python\\ops\\math_ops.py:3066: to_int32 (from tensorflow.python.ops.math_ops) is deprecated and will be removed in a future version.\n",
      "Instructions for updating:\n",
      "Use tf.cast instead.\n",
      "Epoch 1/100\n",
      "3630/3630 [==============================] - 20s 5ms/step - loss: 0.0117\n",
      "Epoch 2/100\n",
      "3630/3630 [==============================] - 14s 4ms/step - loss: 0.0020\n",
      "Epoch 3/100\n",
      "3630/3630 [==============================] - 13s 4ms/step - loss: 0.0019\n",
      "Epoch 4/100\n",
      "3630/3630 [==============================] - 13s 4ms/step - loss: 0.0018\n",
      "Epoch 5/100\n",
      "3630/3630 [==============================] - 14s 4ms/step - loss: 0.0017\n",
      "Epoch 6/100\n",
      "3630/3630 [==============================] - 15s 4ms/step - loss: 0.0018\n",
      "Epoch 7/100\n",
      "3630/3630 [==============================] - 13s 4ms/step - loss: 0.0015\n",
      "Epoch 8/100\n",
      "3630/3630 [==============================] - 14s 4ms/step - loss: 0.0014\n",
      "Epoch 9/100\n",
      "3630/3630 [==============================] - 14s 4ms/step - loss: 0.0015\n",
      "Epoch 10/100\n",
      "3630/3630 [==============================] - 14s 4ms/step - loss: 0.0015\n",
      "Epoch 11/100\n",
      "3630/3630 [==============================] - 14s 4ms/step - loss: 0.0013\n",
      "Epoch 12/100\n",
      "3630/3630 [==============================] - 14s 4ms/step - loss: 0.0012\n",
      "Epoch 13/100\n",
      "3630/3630 [==============================] - 14s 4ms/step - loss: 0.0012\n",
      "Epoch 14/100\n",
      "3630/3630 [==============================] - 14s 4ms/step - loss: 0.0012\n",
      "Epoch 15/100\n",
      "3630/3630 [==============================] - 13s 4ms/step - loss: 0.0013\n",
      "Epoch 16/100\n",
      "3630/3630 [==============================] - 14s 4ms/step - loss: 0.0011\n",
      "Epoch 17/100\n",
      "3630/3630 [==============================] - 15s 4ms/step - loss: 0.0010\n",
      "Epoch 18/100\n",
      "3630/3630 [==============================] - 14s 4ms/step - loss: 0.0011\n",
      "Epoch 19/100\n",
      "3630/3630 [==============================] - 14s 4ms/step - loss: 0.0011\n",
      "Epoch 20/100\n",
      "3630/3630 [==============================] - 14s 4ms/step - loss: 0.0010\n",
      "Epoch 21/100\n",
      "3630/3630 [==============================] - 14s 4ms/step - loss: 8.9646e-04\n",
      "Epoch 22/100\n",
      "3630/3630 [==============================] - 14s 4ms/step - loss: 0.0011\n",
      "Epoch 23/100\n",
      "3630/3630 [==============================] - 14s 4ms/step - loss: 8.2914e-04\n",
      "Epoch 24/100\n",
      "3630/3630 [==============================] - 14s 4ms/step - loss: 0.0010\n",
      "Epoch 25/100\n",
      "3630/3630 [==============================] - 14s 4ms/step - loss: 9.7320e-04\n",
      "Epoch 26/100\n",
      "3630/3630 [==============================] - 14s 4ms/step - loss: 8.6165e-04\n",
      "Epoch 27/100\n",
      "3630/3630 [==============================] - 14s 4ms/step - loss: 8.7697e-04\n",
      "Epoch 28/100\n",
      "3630/3630 [==============================] - 15s 4ms/step - loss: 8.7049e-04\n",
      "Epoch 29/100\n",
      "3630/3630 [==============================] - 14s 4ms/step - loss: 9.7745e-04\n",
      "Epoch 30/100\n",
      "3630/3630 [==============================] - 14s 4ms/step - loss: 8.9845e-04\n",
      "Epoch 31/100\n",
      "3630/3630 [==============================] - 15s 4ms/step - loss: 8.0474e-04\n",
      "Epoch 32/100\n",
      "3630/3630 [==============================] - 14s 4ms/step - loss: 8.4069e-04\n",
      "Epoch 33/100\n",
      "3630/3630 [==============================] - 13s 4ms/step - loss: 7.9880e-04\n",
      "Epoch 34/100\n",
      "3630/3630 [==============================] - 14s 4ms/step - loss: 8.1582e-04\n",
      "Epoch 35/100\n",
      "3630/3630 [==============================] - 14s 4ms/step - loss: 8.3265e-04\n",
      "Epoch 36/100\n",
      "3630/3630 [==============================] - 14s 4ms/step - loss: 7.7527e-04\n",
      "Epoch 37/100\n",
      "3630/3630 [==============================] - 14s 4ms/step - loss: 8.1457e-04\n",
      "Epoch 38/100\n",
      "3630/3630 [==============================] - 14s 4ms/step - loss: 7.7335e-04\n",
      "Epoch 39/100\n",
      "3630/3630 [==============================] - 14s 4ms/step - loss: 8.5862e-04\n",
      "Epoch 40/100\n",
      "3630/3630 [==============================] - 14s 4ms/step - loss: 8.4546e-04\n",
      "Epoch 41/100\n",
      "3630/3630 [==============================] - 14s 4ms/step - loss: 7.6870e-04\n",
      "Epoch 42/100\n",
      "3630/3630 [==============================] - 13s 4ms/step - loss: 7.5213e-04\n",
      "Epoch 43/100\n",
      "3630/3630 [==============================] - 14s 4ms/step - loss: 7.1335e-04\n",
      "Epoch 44/100\n",
      "3630/3630 [==============================] - 13s 4ms/step - loss: 7.0764e-04\n",
      "Epoch 45/100\n",
      "3630/3630 [==============================] - 13s 4ms/step - loss: 6.9794e-04\n",
      "Epoch 46/100\n",
      "3630/3630 [==============================] - 13s 4ms/step - loss: 7.4608e-04\n",
      "Epoch 47/100\n",
      "3630/3630 [==============================] - 14s 4ms/step - loss: 6.7483e-04\n",
      "Epoch 48/100\n",
      "3630/3630 [==============================] - 14s 4ms/step - loss: 7.4573e-04\n",
      "Epoch 49/100\n",
      "3630/3630 [==============================] - 14s 4ms/step - loss: 7.1352e-04\n",
      "Epoch 50/100\n",
      "3630/3630 [==============================] - 14s 4ms/step - loss: 7.6745e-04\n",
      "Epoch 51/100\n",
      "3630/3630 [==============================] - 14s 4ms/step - loss: 6.5011e-04\n",
      "Epoch 52/100\n",
      "3630/3630 [==============================] - 14s 4ms/step - loss: 7.4283e-04\n",
      "Epoch 53/100\n",
      "3630/3630 [==============================] - 14s 4ms/step - loss: 6.9102e-04\n",
      "Epoch 54/100\n",
      "3630/3630 [==============================] - 14s 4ms/step - loss: 6.2404e-04\n",
      "Epoch 55/100\n",
      "3630/3630 [==============================] - 14s 4ms/step - loss: 7.5193e-04\n",
      "Epoch 56/100\n",
      "3630/3630 [==============================] - 14s 4ms/step - loss: 6.9874e-04\n",
      "Epoch 57/100\n",
      "3630/3630 [==============================] - 14s 4ms/step - loss: 6.9077e-04\n",
      "Epoch 58/100\n",
      "3630/3630 [==============================] - 14s 4ms/step - loss: 6.5819e-04\n",
      "Epoch 59/100\n",
      "3630/3630 [==============================] - 14s 4ms/step - loss: 8.0783e-04\n",
      "Epoch 60/100\n",
      "3630/3630 [==============================] - 14s 4ms/step - loss: 6.5610e-04\n",
      "Epoch 61/100\n",
      "3630/3630 [==============================] - 14s 4ms/step - loss: 7.2619e-04\n",
      "Epoch 62/100\n",
      "3630/3630 [==============================] - 14s 4ms/step - loss: 6.6856e-04\n",
      "Epoch 63/100\n",
      "3630/3630 [==============================] - 14s 4ms/step - loss: 6.9263e-04\n",
      "Epoch 64/100\n",
      "3630/3630 [==============================] - 14s 4ms/step - loss: 6.1071e-04\n",
      "Epoch 65/100\n",
      "3630/3630 [==============================] - 14s 4ms/step - loss: 6.1710e-04\n",
      "Epoch 66/100\n",
      "3630/3630 [==============================] - 14s 4ms/step - loss: 6.6583e-04\n",
      "Epoch 67/100\n",
      "3630/3630 [==============================] - 14s 4ms/step - loss: 6.2144e-04\n",
      "Epoch 68/100\n",
      "3630/3630 [==============================] - 14s 4ms/step - loss: 6.6233e-04\n",
      "Epoch 69/100\n",
      "3630/3630 [==============================] - 14s 4ms/step - loss: 6.2065e-04\n",
      "Epoch 70/100\n",
      "3630/3630 [==============================] - 14s 4ms/step - loss: 6.4977e-04\n",
      "Epoch 71/100\n",
      "3630/3630 [==============================] - 14s 4ms/step - loss: 7.0235e-04\n",
      "Epoch 72/100\n",
      "3630/3630 [==============================] - 14s 4ms/step - loss: 5.6783e-04\n",
      "Epoch 73/100\n",
      "3630/3630 [==============================] - 15s 4ms/step - loss: 7.0340e-04\n",
      "Epoch 74/100\n",
      "3630/3630 [==============================] - 14s 4ms/step - loss: 6.7748e-04\n",
      "Epoch 75/100\n",
      "3630/3630 [==============================] - 14s 4ms/step - loss: 7.4501e-04\n",
      "Epoch 76/100\n",
      "3630/3630 [==============================] - 14s 4ms/step - loss: 5.6658e-04\n",
      "Epoch 77/100\n",
      "3630/3630 [==============================] - 14s 4ms/step - loss: 6.4282e-04\n",
      "Epoch 78/100\n",
      "3630/3630 [==============================] - 14s 4ms/step - loss: 6.4112e-04\n",
      "Epoch 79/100\n",
      "3630/3630 [==============================] - 14s 4ms/step - loss: 5.8136e-04\n",
      "Epoch 80/100\n",
      "3630/3630 [==============================] - 14s 4ms/step - loss: 6.7410e-04\n",
      "Epoch 81/100\n",
      "3630/3630 [==============================] - 14s 4ms/step - loss: 7.1014e-04\n",
      "Epoch 82/100\n",
      "3630/3630 [==============================] - 14s 4ms/step - loss: 6.7638e-04\n",
      "Epoch 83/100\n",
      "3630/3630 [==============================] - 14s 4ms/step - loss: 6.1566e-04\n",
      "Epoch 84/100\n",
      "3630/3630 [==============================] - 14s 4ms/step - loss: 5.8391e-04\n",
      "Epoch 85/100\n",
      "3630/3630 [==============================] - 14s 4ms/step - loss: 7.3916e-04\n",
      "Epoch 86/100\n",
      "3630/3630 [==============================] - 14s 4ms/step - loss: 6.3056e-04\n",
      "Epoch 87/100\n",
      "3630/3630 [==============================] - 14s 4ms/step - loss: 6.6230e-04\n",
      "Epoch 88/100\n",
      "3630/3630 [==============================] - 14s 4ms/step - loss: 6.6276e-04\n",
      "Epoch 89/100\n",
      "3630/3630 [==============================] - 13s 4ms/step - loss: 5.9863e-04\n",
      "Epoch 90/100\n",
      "3630/3630 [==============================] - 13s 4ms/step - loss: 6.1246e-04\n",
      "Epoch 91/100\n",
      "3630/3630 [==============================] - 13s 4ms/step - loss: 6.4120e-04\n",
      "Epoch 92/100\n",
      "3630/3630 [==============================] - 13s 4ms/step - loss: 5.9230e-04\n",
      "Epoch 93/100\n",
      "3630/3630 [==============================] - 13s 4ms/step - loss: 5.7305e-04\n",
      "Epoch 94/100\n",
      "3630/3630 [==============================] - 14s 4ms/step - loss: 6.1915e-04\n",
      "Epoch 95/100\n",
      "3630/3630 [==============================] - 14s 4ms/step - loss: 5.6127e-04\n",
      "Epoch 96/100\n",
      "3630/3630 [==============================] - 15s 4ms/step - loss: 6.0633e-04\n",
      "Epoch 97/100\n",
      "3630/3630 [==============================] - 14s 4ms/step - loss: 5.8422e-04\n",
      "Epoch 98/100\n",
      "3630/3630 [==============================] - 14s 4ms/step - loss: 5.7410e-04\n",
      "Epoch 99/100\n",
      "3630/3630 [==============================] - 13s 4ms/step - loss: 5.3986e-04\n",
      "Epoch 100/100\n",
      "3630/3630 [==============================] - 13s 4ms/step - loss: 6.5426e-04\n"
     ]
    },
    {
     "data": {
      "text/plain": [
       "<keras.callbacks.History at 0x2a6e0e0ec88>"
      ]
     },
     "execution_count": 18,
     "metadata": {},
     "output_type": "execute_result"
    }
   ],
   "source": [
    "# Fitting the RNN to the Training set\n",
    "regressor.fit(X_train, y_train, epochs = 100, batch_size = 32)\n"
   ]
  },
  {
   "cell_type": "markdown",
   "metadata": {},
   "source": [
    "## Predictions and visualizations\n",
    "#### We will use our testing set to predict the stock prices in may using our newly fit RNN\n",
    "#### We will use matplotlib to plot our predicted and real stock prices"
   ]
  },
  {
   "cell_type": "code",
   "execution_count": 19,
   "metadata": {},
   "outputs": [],
   "source": [
    "\n",
    "dataset_test =pd.DataFrame(testing_set)\n",
    "real_stock_price = dataset_test.iloc[:20, 1:2].values\n"
   ]
  },
  {
   "cell_type": "code",
   "execution_count": 20,
   "metadata": {},
   "outputs": [
    {
     "data": {
      "text/plain": [
       "0    49.676899\n",
       "1    50.178635\n",
       "2    55.017166\n",
       "3    55.260582\n",
       "4    52.140873\n",
       "Name: Open, dtype: float64"
      ]
     },
     "execution_count": 20,
     "metadata": {},
     "output_type": "execute_result"
    }
   ],
   "source": [
    "df.loc[:3690,'Open'].head()"
   ]
  },
  {
   "cell_type": "code",
   "execution_count": 21,
   "metadata": {},
   "outputs": [],
   "source": [
    "\n",
    "dataset_total = pd.concat((df.loc[:3690,'Open'], dataset_test), axis = 0)\n",
    "inputs = dataset_total[len(dataset_total) - len(dataset_test) - 60:].values\n",
    "inputs = inputs.reshape(-1,1)\n",
    "inputs = sc.transform(inputs)\n"
   ]
  },
  {
   "cell_type": "code",
   "execution_count": 22,
   "metadata": {},
   "outputs": [
    {
     "data": {
      "text/plain": [
       "array([[1210.134 ],\n",
       "       [1214.2927],\n",
       "       [1217.7241],\n",
       "       [1220.053 ],\n",
       "       [1222.5172],\n",
       "       [1226.7185],\n",
       "       [1231.1998],\n",
       "       [1234.9601],\n",
       "       [1238.3331],\n",
       "       [1233.582 ],\n",
       "       [1219.2012],\n",
       "       [1204.8553],\n",
       "       [1192.6688],\n",
       "       [1184.666 ],\n",
       "       [1182.2208],\n",
       "       [1182.3368],\n",
       "       [1180.8743],\n",
       "       [1178.9547],\n",
       "       [1173.8995],\n",
       "       [1166.6763],\n",
       "       [1157.0322],\n",
       "       [1155.5991],\n",
       "       [1160.416 ],\n",
       "       [1162.4897],\n",
       "       [1162.549 ],\n",
       "       [1161.4702],\n",
       "       [1158.78  ],\n",
       "       [1156.9142],\n",
       "       [1153.9591],\n",
       "       [1149.7484],\n",
       "       [1144.004 ],\n",
       "       [1136.2906],\n",
       "       [1123.025 ],\n",
       "       [1105.5844]], dtype=float32)"
      ]
     },
     "execution_count": 22,
     "metadata": {},
     "output_type": "execute_result"
    }
   ],
   "source": [
    "X_test = []\n",
    "for i in range(60, 94):\n",
    "    X_test.append(inputs[i-60:i, 0])\n",
    "X_test = np.array(X_test)\n",
    "X_test = np.reshape(X_test, (X_test.shape[0], X_test.shape[1], 1))\n",
    "predicted_stock_price = regressor.predict(X_test)\n",
    "predicted_stock_price = sc.inverse_transform(predicted_stock_price)\n",
    "predicted_stock_price\n"
   ]
  },
  {
   "cell_type": "code",
   "execution_count": 23,
   "metadata": {},
   "outputs": [
    {
     "data": {
      "image/png": "[encoded data removed]",
      "text/plain": [
       "<Figure size 432x288 with 1 Axes>"
      ]
     },
     "metadata": {
      "needs_background": "light"
     },
     "output_type": "display_data"
    }
   ],
   "source": [
    "# Visualising the results\n",
    "plt.plot(testing_set, color = 'red', label = 'Real Google Stock Price')\n",
    "plt.plot(predicted_stock_price, color = 'blue', label = 'Predicted Google Stock Price')\n",
    "plt.title('Google Stock Price Prediction')\n",
    "plt.xlabel('Time')\n",
    "plt.ylabel('Google Stock Price')\n",
    "plt.legend()\n",
    "plt.show()"
   ]
  }
 ],
 "metadata": {
  "kernelspec": {
   "display_name": "Python 3",
   "language": "python",
   "name": "python3"
  },
  "language_info": {
   "codemirror_mode": {
    "name": "ipython",
    "version": 3
   },
   "file_extension": ".py",
   "mimetype": "text/x-python",
   "name": "python",
   "nbconvert_exporter": "python",
   "pygments_lexer": "ipython3",
   "version": "3.7.1"
  }
 },
 "nbformat": 4,
 "nbformat_minor": 2
}
